{
 "cells": [
  {
   "cell_type": "markdown",
   "metadata": {},
   "source": [
    "# Power Spectral Estimation: Periodogram vs Model Based Approach\n",
    "\n",
    "## A toy example: Prior information compensating reduced data sets\n",
    "\n",
    "We will use the following matlab commands\n",
    "\n",
    "* `randn(M,N)` generates a matrix of M-by-N matrix of samples drawn from a centered Gausian distribution with unitary variance; \n",
    "* `Y = filter(B,A,X)` implementing the filter $a(1)*y(n) = b(1)*x(n) + b(2)*x(n-1) + ... + b(nb+1)*x(n-nb)- a(2)*y(n-1) - ... - a(na+1)*y(n-na)$;\n",
    "* `periodogram(X,[],NFFT,'twosided')` estimates the power specral density of the signal $X$ by mean of the periodogram (using `NFFT` samples for computing the Fourier transform) \n",
    "* `pyulear(X,arOrder,NFFT,,'twosided')` estimates the power specral density of the signal $X$ assuming that $X$ corresponds to an AR process of order `arOrder` and computing the model parameters by mean of the Yule-Walker equations (using `NFFT` samples to compute the spectrum).\n",
    "\n",
    "In order to \n",
    "\n",
    "* Generate a white noise signal of length `dataSize` with standard deviation `sigma` <br> \n",
    "`whiteNoise=mean+sigma*randn(dataSize,1)`, where `mean=0`\n",
    "\n",
    "* Generate an AR process with coefficients `arPolynomial=[1.0000   -0.6143    0.0240   -0.3823    0.4654    0.0190   -0.1962   -0.0315    0.0143]` (order 8), by filtering the white noise <br>\n",
    "`simulatedSignal=filter(1,arPolynomial,whiteNoise)`\n",
    "\n",
    "* Estimating the power spectral density\n",
    "\n",
    "We start by considering lots of data. We shall then remark that in such a situation the periodogram well approximate the spectrum (small bias).\n",
    "\n",
    "On the contrary, when the number of data samples is downsized, and consequently the available information reduced, we shall see that the *apriori* information brought by the model based approach plays a key role in the estimation quality and that the periodogram, bringing no additional information to the estimation problem, performs quite poorly.  \n",
    "\n"
   ]
  },
  {
   "cell_type": "code",
   "execution_count": 6,
   "metadata": {},
   "outputs": [
    {
     "name": "stdout",
     "output_type": "stream",
     "text": [
      "Starting MATLAB on ZMQ socket ipc:///tmp/pymatbridge-6a34c335-dc2b-4b22-9ffa-994ed8415edd\n",
      "Send 'exit' command to kill the server\n",
      ".....MATLAB started and connected!\n"
     ]
    },
    {
     "data": {
      "text/plain": [
       "<pymatbridge.pymatbridge.Matlab at 0x7fb75cc24e48>"
      ]
     },
     "execution_count": 6,
     "metadata": {},
     "output_type": "execute_result"
    }
   ],
   "source": [
    "from pymatbridge import pymat\n",
    "mlab = Matlab(executable='/home/cat/matlab/bin/matlab')\n",
    "mlab.start()\n"
   ]
  },
  {
   "cell_type": "code",
   "execution_count": null,
   "metadata": {},
   "outputs": [],
   "source": [
    "import pymatbridge as pymat\n",
    "ip = get_ipython()\n",
    "pymat.load_ipython_extension(ip)"
   ]
  },
  {
   "cell_type": "code",
   "execution_count": 14,
   "metadata": {},
   "outputs": [],
   "source": [
    "ip = get_ipython()\n",
    "pymat.load_ipython_extension(ip, matlab='/home/cat/matlab/bin/matlab')\n"
   ]
  },
  {
   "cell_type": "code",
   "execution_count": 19,
   "metadata": {},
   "outputs": [],
   "source": [
    "%%matlab\n",
    "close all\n",
    "clear all\n",
    "\n",
    "% Set the parameter [a1 a2 ... aN] of the AR polynomial, where\n",
    "% a1*X[n]+a2*X[n-1]+...+aN*X[n-(N-1)]=W[n]\n",
    "\n",
    "arPolynomial=[1.0000   -0.6143    0.0240   -0.3823    0.4654    0.0190   -0.1962   -0.0315    0.0143];\n",
    "\n",
    "% Set the number of samples for the simulation\n",
    "dataSize=5000000;\n",
    "\n",
    "% Generate a white noise\n",
    "sigma=1;\n",
    "mean=0;\n",
    "whiteNoise=mean+sigma*randn(dataSize,1);\n",
    "\n",
    "% Filter the white noise with an all poles filter with coefficients given by the AR polinomial\n",
    "simulatedSignal=filter(1,arPolynomial,whiteNoise);\n",
    "\n",
    "% Compute the spectrum of the rrSignal using the periodogram\n",
    "psdPer=periodogram(simulatedSignal,[],dataSize,'twosided');\n",
    "\n",
    "% Compute the spectrum of the rrSignal using an AR model\n",
    "arOrder=length(arPolynomial);\n",
    "psdAR=pyulear(simulatedSignal,arOrder,dataSize,'twosided');\n",
    "\n",
    "% \n",
    "freqVector=((1:dataSize)/dataSize);\n",
    "\n",
    "\n",
    "\n"
   ]
  },
  {
   "cell_type": "code",
   "execution_count": null,
   "metadata": {},
   "outputs": [],
   "source": []
  },
  {
   "cell_type": "code",
   "execution_count": null,
   "metadata": {},
   "outputs": [],
   "source": []
  },
  {
   "cell_type": "code",
   "execution_count": null,
   "metadata": {},
   "outputs": [],
   "source": [
    "% Plot spectra\n",
    "figure;\n",
    "subplot(2,1,1)\n",
    "plot(freqVector,psdPer)\n",
    "set(gca,'fontsize',14);\n",
    "xlabel('normalized frequencies ');\n",
    "title(['Periodogram ' '(' num2str(dataSize) ' samples) '],'FontSize',20);\n",
    "\n",
    "subplot(2,1,2)\n",
    "plot(freqVector,psdAR)\n",
    "set(gca,'fontsize',14);\n",
    "xlabel('normalized frequencies ');\n",
    "title(['AR ' '(' num2str(dataSize) ' samples) '],'FontSize',20);\n",
    "\n",
    "% Now let us downsize the data\n",
    "dataSize=200;\n",
    "simulatedSignal=simulatedSignal(1:dataSize);\n",
    "\n",
    "\n",
    "% Compute the spectrum of the rrSignal using the periodogram\n",
    "psdPer=periodogram(simulatedSignal,[],dataSize,'twosided');\n",
    "\n",
    "% Compute the spectrum of the rrSignal using an AR model\n",
    "arOrder=8;\n",
    "psdAR=pyulear(simulatedSignal,arOrder,dataSize,'twosided');\n",
    "\n",
    "% \n",
    "freqVector=((1:dataSize)/dataSize);\n",
    "\n",
    "% Plot spectra\n",
    "figure;\n",
    "subplot(2,1,1)\n",
    "plot(freqVector,psdPer)\n",
    "set(gca,'fontsize',14);\n",
    "xlabel('normalized frequencies ');\n",
    "title(['Periodogram ' '(' num2str(dataSize) ' samples) '],'FontSize',20);\n",
    "\n",
    "subplot(2,1,2)\n",
    "plot(freqVector,psdAR)\n",
    "set(gca,'fontsize',14);\n",
    "xlabel('normalized frequencies ');\n",
    "title(['AR ' '(' num2str(dataSize) ' samples) '],'FontSize',20);\n"
   ]
  },
  {
   "cell_type": "markdown",
   "metadata": {},
   "source": [
    "## A case study: Heart Rate Variability, stress, fatigue and cardovascular disfuctions \n",
    "\n",
    "Heart Rate Variability (HRV) is defined as the physiological phenomenon of variation in the time interval between heartbeats, the so called RR intervals. Indeed, even on very short periods of time, the interval between heart beats, and consequently the heart rate, is not constant.\n",
    "What we usually measure as heart rate is actually the average heart rate. \n",
    "\n",
    "The figure below depicts a segment of an Electrocardiogram signal (ECG), with two typical heart beats and the RR interval between them.\n",
    "\n",
    "![](files/imgFiles/ecg.png)\n",
    "\n",
    "The HRV contains important information about the cardiovascular as well as the general health of a person.\n",
    "\n",
    "### A bit of Physiology: How the Nervous System Controls the Heart\n",
    "The subcomponent of the central nervous system responsible of the involuntary functions is called Autonomic Nervous System (ANS). It is composed of two branches, the **Parasympathetic Nervous System** and the **Sympathetic Nervous System**, each working in opposing directions to maintain a balanced state of control over internal organs. Parasympathetic relax or slows down how organs function, *i.e.*, slows down heart beat, and the Sympathetic activate or speeds up the same organs, *i.e.*, speed up heart beat. \n",
    "\n",
    "A healthy body that is able to respond quickly to demands will have a very active parasynpathethic and sympathetic systems, trying hard to preserve the equilibrium. This corresponds to a high variance between heart beats.\n",
    "\n",
    "On the contrary, a reduced heart rate variability reflects a stressed or tired body, *e.g.*, due to sickness or high volume training. \n",
    "\n",
    "### Spectral Analysis and HRV\n",
    "\n",
    "By taking a look at the variance of the RR signal, *i.e.*, the power of the spectrum of the RR signal, one can obtain information on the general rest status of a person. A detailed spectral analysis, well beyound the simple energy computation, provides more insight on his health. Specifically, spectral analysis of heart beat intervals (RR) is typically used to estimate the effect of the sympathetic and parasympathetic modulation, and the balance between these two branches of the Autonomic Nervous System.\n",
    "\n",
    "The sympatetic activity is believed to influence the 0.04 to 0.15 Hz component of the spectrum (LF band) while the parasympathetic activity have an effect on the 0.15 to 0.4 Hz component (HF band). Indeed the parasympathetic system reacts fast and its activity appears at high frequencies.\n",
    "\n",
    "The ratio of the power contained in the LF and HF components has been used as a measure of the balance between the effects of the sympathetic and parasympathetic systems. Obviously, a proper spectral analysis is required in order to be able to compute the power of the LF and HF spectral components.\n",
    "\n",
    "## Estimating the spectrum of a RR signal\n",
    "\n",
    "We now proceed to the spectral analysis of the RR signal. The spectrum of a RR signal is a smooth one and can be approximated by a rational spectrum, that is, by the spectrum of an AR model.\n",
    "\n",
    "We shall present the spectral estimation obtained usign the periodogram, simple but not exploiting the smooth information, and using an AR model.  "
   ]
  },
  {
   "cell_type": "code",
   "execution_count": 4,
   "metadata": {},
   "outputs": [
    {
     "data": {
      "image/png": "[encoded data removed]"
     },
     "metadata": {},
     "output_type": "display_data"
    },
    {
     "data": {
      "image/png": "[encoded data removed]"
     },
     "metadata": {},
     "output_type": "display_data"
    }
   ],
   "source": [
    "%%matlab\n",
    "close all\n",
    "clear all\n",
    "\n",
    "% Load the RR signal\n",
    "% Values are in milliseconds\n",
    "load('rrSignal.mat')\n",
    "\n",
    "dataSize=length(rrSignal);\n",
    "\n",
    "figure; \n",
    "plot(rrSignal/1000)\n",
    "set(gca,'fontsize',14);\n",
    "xlabel('samples ');\n",
    "ylabel('seconds ');\n",
    "title('RR signal ','FontSize',20);\n",
    "\n",
    "% Compute the average RR interval \n",
    "% Use it to eliminate the non informative DC component\n",
    "averageRR=mean(rrSignal);\n",
    "rrSignal=rrSignal-averageRR;\n",
    "\n",
    "% Convert the average RR interval to seconds\n",
    "averageRR=averageRR/1000;\n",
    "\n",
    "% Compute the spectrum of the rrSignal using the periodogram\n",
    "psdPer=periodogram(rrSignal,[],dataSize,'twosided');\n",
    "\n",
    "% Compute the spectrum of the rrSignal using an AR model\n",
    "arOrder=8;\n",
    "psdAR=pyulear(rrSignal,arOrder,dataSize,'twosided');\n",
    "\n",
    "% Set the frequency axis on the basis of the average RR\n",
    "% Notice that the RR samples do not have regularly spaced timestamps\n",
    "% It has been however shown that approximating the interval between two timestamps to the average interval \n",
    "% does not affect the medical information that can be inferred from the spectrum\n",
    "freqVector=((1:dataSize)/dataSize)/averageRR;\n",
    "\n",
    "% Plot spectra\n",
    "figure;\n",
    "subplot(2,1,1)\n",
    "plot(freqVector,psdPer)\n",
    "set(gca,'fontsize',14);\n",
    "xlabel('frequency ');\n",
    "title('Periodogram ','FontSize',20);\n",
    "\n",
    "subplot(2,1,2)\n",
    "plot(freqVector,psdAR)\n",
    "set(gca,'fontsize',14);\n",
    "xlabel('frequency ');\n",
    "title('AR ','FontSize',20);\n"
   ]
  },
  {
   "cell_type": "code",
   "execution_count": null,
   "metadata": {},
   "outputs": [],
   "source": []
  }
 ],
 "metadata": {
  "kernelspec": {
   "display_name": "Python 3",
   "language": "python",
   "name": "python3"
  },
  "language_info": {
   "codemirror_mode": {
    "name": "ipython",
    "version": 3
   },
   "file_extension": ".py",
   "mimetype": "text/x-python",
   "name": "python",
   "nbconvert_exporter": "python",
   "pygments_lexer": "ipython3",
   "version": "3.6.4"
  }
 },
 "nbformat": 4,
 "nbformat_minor": 1
}
